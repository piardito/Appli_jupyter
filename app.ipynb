{
 "cells": [
  {
   "cell_type": "code",
   "execution_count": 2,
   "id": "c4054555",
   "metadata": {
    "scrolled": true
   },
   "outputs": [],
   "source": [
    "import PySimpleGUI as sg\n",
    "import pandas as pd\n",
    "\n",
    "sg.theme('DarkAmber')   # Add a touch of color\n",
    "# All the stuff inside your window.\n",
    "layout = [  [sg.Text('Nom'),sg.InputText(key=\"Nom\")],\n",
    "            [sg.Text('Prénom'), sg.InputText(key=\"Prénom\")],\n",
    "            [sg.Text(\"Numéro de Projet\"),sg.InputText(key=\"Numéro de projet\")],\n",
    "            [sg.Submit(), sg.Button('Clear'),sg.Exit()] ]\n",
    "\n",
    "excel_file = r\"classeur.xlsx\"\n",
    "df = pd.read_excel(excel_file)\n",
    "# Create the Window\n",
    "window = sg.Window('PYTHON FORM', layout)\n",
    "# Event Loop to process \"events\" and get the \"values\" of the inputs\n",
    "def clear_input():\n",
    "    for key in values:\n",
    "        window[key]('')\n",
    "    return None\n",
    "\n",
    "while True:\n",
    "    event, values = window.read()\n",
    "    if event == sg.WIN_CLOSED or event == 'Clear': # if user closes window or clicks cancel\n",
    "        break\n",
    "    if event == \"Submit\":\n",
    "        df = df.append(values,ignore_index=True)\n",
    "        df.to_excel(excel_file,\"Sheet1\",index=False)\n",
    "        clear_input()\n",
    "\n",
    "window.close()"
   ]
  }
 ],
 "metadata": {
  "kernelspec": {
   "display_name": "Python 3 (ipykernel)",
   "language": "python",
   "name": "python3"
  },
  "language_info": {
   "codemirror_mode": {
    "name": "ipython",
    "version": 3
   },
   "file_extension": ".py",
   "mimetype": "text/x-python",
   "name": "python",
   "nbconvert_exporter": "python",
   "pygments_lexer": "ipython3",
   "version": "3.9.15"
  }
 },
 "nbformat": 4,
 "nbformat_minor": 5
}
